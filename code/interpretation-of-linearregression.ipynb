{
 "cells": [
  {
   "cell_type": "markdown",
   "metadata": {},
   "source": [
    "# interpretation-of-linearregression"
   ]
  },
  {
   "cell_type": "markdown",
   "metadata": {},
   "source": [
    "## Summary\n",
    "\n",
    "* Objective\n",
    "* Modeling\n",
    "* Interpretation"
   ]
  },
  {
   "cell_type": "markdown",
   "metadata": {},
   "source": [
    "## Objective\n",
    "\n",
    "I would like to know what an interpretation of `LinearRegression` is like. This model was made with price, season and weight of orange juice. I set the price as a target value, and the others as predictors so I could know how the season and weight determine the price of orange juice. Here, assume that season is when the orange juices were sold."
   ]
  },
  {
   "cell_type": "markdown",
   "metadata": {},
   "source": [
    "## Modeling"
   ]
  },
  {
   "cell_type": "code",
   "execution_count": 7,
   "metadata": {},
   "outputs": [
    {
     "data": {
      "text/html": [
       "<div>\n",
       "<style scoped>\n",
       "    .dataframe tbody tr th:only-of-type {\n",
       "        vertical-align: middle;\n",
       "    }\n",
       "\n",
       "    .dataframe tbody tr th {\n",
       "        vertical-align: top;\n",
       "    }\n",
       "\n",
       "    .dataframe thead th {\n",
       "        text-align: right;\n",
       "    }\n",
       "</style>\n",
       "<table border=\"1\" class=\"dataframe\">\n",
       "  <thead>\n",
       "    <tr style=\"text-align: right;\">\n",
       "      <th></th>\n",
       "      <th>weight</th>\n",
       "      <th>season</th>\n",
       "      <th>price</th>\n",
       "    </tr>\n",
       "  </thead>\n",
       "  <tbody>\n",
       "    <tr>\n",
       "      <th>0</th>\n",
       "      <td>450</td>\n",
       "      <td>Winter</td>\n",
       "      <td>14.5</td>\n",
       "    </tr>\n",
       "    <tr>\n",
       "      <th>1</th>\n",
       "      <td>900</td>\n",
       "      <td>Spring</td>\n",
       "      <td>20.8</td>\n",
       "    </tr>\n",
       "    <tr>\n",
       "      <th>2</th>\n",
       "      <td>300</td>\n",
       "      <td>Spring</td>\n",
       "      <td>13.6</td>\n",
       "    </tr>\n",
       "    <tr>\n",
       "      <th>3</th>\n",
       "      <td>350</td>\n",
       "      <td>Spring</td>\n",
       "      <td>14.2</td>\n",
       "    </tr>\n",
       "    <tr>\n",
       "      <th>4</th>\n",
       "      <td>450</td>\n",
       "      <td>Spring</td>\n",
       "      <td>15.4</td>\n",
       "    </tr>\n",
       "  </tbody>\n",
       "</table>\n",
       "</div>"
      ],
      "text/plain": [
       "   weight  season  price\n",
       "0     450  Winter   14.5\n",
       "1     900  Spring   20.8\n",
       "2     300  Spring   13.6\n",
       "3     350  Spring   14.2\n",
       "4     450  Spring   15.4"
      ]
     },
     "execution_count": 7,
     "metadata": {},
     "output_type": "execute_result"
    }
   ],
   "source": [
    "# Create dataset\n",
    "import pandas as pd\n",
    "import numpy as np\n",
    "\n",
    "np.random.seed(42)\n",
    "weight = [550, 500, 400, 900, 350, 800, 450, 300, 600]\n",
    "season = ['Summer', 'Spring', 'Fall', 'Winter']\n",
    "orange_juice = pd.DataFrame()\n",
    "orange_juice['weight'] = [np.random.choice(weight) for _ in range(50)]\n",
    "orange_juice['season'] = [np.random.choice(season) for _ in range(50)]\n",
    "orange_juice['price'] = round((1/100)*orange_juice['weight']*orange_juice['season'].map({'Spring': 1.2, 'Summer': 2, 'Fall':1.4 , 'Winter': 1}) + 10, 1)\n",
    "orange_juice.head()"
   ]
  },
  {
   "cell_type": "code",
   "execution_count": 8,
   "metadata": {},
   "outputs": [],
   "source": [
    "# Save the dataset as csv\n",
    "# orange_juice.to_csv('../data/orange_juice.csv', index=False)"
   ]
  },
  {
   "cell_type": "code",
   "execution_count": 99,
   "metadata": {},
   "outputs": [],
   "source": [
    "# Modeling with LinearRegression\n",
    "lr = LinearRegression()\n",
    "\n",
    "features = orange_juice.drop(columns='price')\n",
    "features = pd.get_dummies(data=features, columns={'season'}, drop_first=True)"
   ]
  },
  {
   "cell_type": "code",
   "execution_count": 100,
   "metadata": {},
   "outputs": [
    {
     "data": {
      "text/plain": [
       "[('weight', 0.01412144030119758),\n",
       " ('season_Spring', -1.0143739736452113),\n",
       " ('season_Summer', 3.0573637201105446),\n",
       " ('season_Winter', -1.8553811030560343)]"
      ]
     },
     "execution_count": 100,
     "metadata": {},
     "output_type": "execute_result"
    }
   ],
   "source": [
    "# Get coefficient of each column\n",
    "lr.fit(features, orange_juice['price'])\n",
    "\n",
    "[(column, coefficient) for column, coefficient in zip(features.columns, lr.coef_)]"
   ]
  },
  {
   "cell_type": "markdown",
   "metadata": {},
   "source": [
    "## Interpretation"
   ]
  },
  {
   "cell_type": "markdown",
   "metadata": {},
   "source": [
    "> For each increase of weight unit, we can expect the price is increased by \\\\$0.014 holding all other features consistent\n",
    "Also\n",
    "We can expect price of the orange juice in Summer is \\\\$3.05 higher than its price in Fall holding all other features consistent"
   ]
  },
  {
   "cell_type": "code",
   "execution_count": null,
   "metadata": {},
   "outputs": [],
   "source": []
  }
 ],
 "metadata": {
  "kernelspec": {
   "display_name": "Python 3",
   "language": "python",
   "name": "python3"
  },
  "language_info": {
   "codemirror_mode": {
    "name": "ipython",
    "version": 3
   },
   "file_extension": ".py",
   "mimetype": "text/x-python",
   "name": "python",
   "nbconvert_exporter": "python",
   "pygments_lexer": "ipython3",
   "version": "3.8.5"
  }
 },
 "nbformat": 4,
 "nbformat_minor": 4
}
